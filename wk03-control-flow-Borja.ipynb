{
 "cells": [
  {
   "cell_type": "markdown",
   "id": "a50b15cc",
   "metadata": {},
   "source": [
    "## Q. 1\n",
    "You have a dataset that contains temperature data recorded daily over a month for a fictious city. Categorize the temperature into different levels based on the following conditions:\n",
    "\n",
    "- \"Cold\" if the temperature is 50°F and below.\n",
    "- \"Cool\" if the temperature is above 50°F but below 68°F.\n",
    "- \"Warm\" if the temperature is 68°F and above but less than 86°F.\n",
    "- \"Hot\" if the temperature is 86°F and above.\n",
    "\n",
    "Print the result in the format ```Temperature X°F: whatever Category```\n"
   ]
  },
  {
   "cell_type": "code",
   "execution_count": 6,
   "id": "8ac2e955",
   "metadata": {},
   "outputs": [],
   "source": [
    "### dataset of temperatures:\n",
    "\n",
    "temps = [45, 52, 68, 73, 89, 47, 55, 81, 66,\n",
    "         77, 58, 62, 91, 49, 72, 85, 40, 63, 87, 53,\n",
    "         78, 60, 44, 59, 75, 90, 56, 48, 67, 82]\n"
   ]
  },
  {
   "cell_type": "code",
   "execution_count": 22,
   "id": "66c0e600",
   "metadata": {},
   "outputs": [
    {
     "name": "stdout",
     "output_type": "stream",
     "text": [
      "Temperature 73°F:it's warm\n"
     ]
    }
   ],
   "source": [
    "## code it here \n",
    "temps= 73\n",
    "\n",
    "if temps < 50: \n",
    "    print (f\"Temperature {temps}°F:it's cold\")\n",
    "elif 51 <= temps <= 68: \n",
    "    print (f\"Temperature {temps}°F:it's cool\")\n",
    "elif 68 <= temps <= 86: \n",
    "    print (f\"Temperature {temps}°F:it's warm\") \n",
    "else: \n",
    "     print (f\"Temperature {temps}°F:it's hot\")  \n"
   ]
  },
  {
   "cell_type": "markdown",
   "id": "ea7e9b9c",
   "metadata": {},
   "source": [
    "## Q. 2\n",
    "\n",
    "Now instead of printing the results, create a list of dictionaries in which each dictionary holds the key-value pairs of ```{\"temp\": temp_value}```"
   ]
  },
  {
   "cell_type": "code",
   "execution_count": 58,
   "id": "0947a342",
   "metadata": {},
   "outputs": [],
   "source": [
    "## code it here\n",
    "\n",
    "weather_info= []\n",
    "temps = [45, 52, 68, 73, 89, 47, 55, 81, 66,\n",
    "         77, 58, 62, 91, 49, 72, 85, 40, 63, 87, 53,\n",
    "         78, 60, 44, 59, 75, 90, 56, 48, 67, 82]\n",
    "\n",
    "for temp in temps:\n",
    "    if temp < 50: \n",
    "        weather= \"it's cold\"\n",
    "    elif 51 <= temp <= 68: \n",
    "        weather=\"it's cool \"\n",
    "    elif 68 < temp <= 86: \n",
    "        weather= \"it's warm\"\n",
    "    else: \n",
    "        weather=\"it's hot\"\n",
    "    weather_info.append({\"temp\": temp, \"description\": weather})\n",
    "  \n"
   ]
  },
  {
   "cell_type": "code",
   "execution_count": 59,
   "id": "46142c64",
   "metadata": {},
   "outputs": [
    {
     "data": {
      "text/plain": [
       "[{'temp': 45, 'description': \"it's cold\"},\n",
       " {'temp': 52, 'description': \"it's cool \"},\n",
       " {'temp': 68, 'description': \"it's cool \"},\n",
       " {'temp': 73, 'description': \"it's warm\"},\n",
       " {'temp': 89, 'description': \"it's hot\"},\n",
       " {'temp': 47, 'description': \"it's cold\"},\n",
       " {'temp': 55, 'description': \"it's cool \"},\n",
       " {'temp': 81, 'description': \"it's warm\"},\n",
       " {'temp': 66, 'description': \"it's cool \"},\n",
       " {'temp': 77, 'description': \"it's warm\"},\n",
       " {'temp': 58, 'description': \"it's cool \"},\n",
       " {'temp': 62, 'description': \"it's cool \"},\n",
       " {'temp': 91, 'description': \"it's hot\"},\n",
       " {'temp': 49, 'description': \"it's cold\"},\n",
       " {'temp': 72, 'description': \"it's warm\"},\n",
       " {'temp': 85, 'description': \"it's warm\"},\n",
       " {'temp': 40, 'description': \"it's cold\"},\n",
       " {'temp': 63, 'description': \"it's cool \"},\n",
       " {'temp': 87, 'description': \"it's hot\"},\n",
       " {'temp': 53, 'description': \"it's cool \"},\n",
       " {'temp': 78, 'description': \"it's warm\"},\n",
       " {'temp': 60, 'description': \"it's cool \"},\n",
       " {'temp': 44, 'description': \"it's cold\"},\n",
       " {'temp': 59, 'description': \"it's cool \"},\n",
       " {'temp': 75, 'description': \"it's warm\"},\n",
       " {'temp': 90, 'description': \"it's hot\"},\n",
       " {'temp': 56, 'description': \"it's cool \"},\n",
       " {'temp': 48, 'description': \"it's cold\"},\n",
       " {'temp': 67, 'description': \"it's cool \"},\n",
       " {'temp': 82, 'description': \"it's warm\"}]"
      ]
     },
     "execution_count": 59,
     "metadata": {},
     "output_type": "execute_result"
    }
   ],
   "source": [
    "weather_info"
   ]
  },
  {
   "cell_type": "markdown",
   "id": "46a15fb0",
   "metadata": {},
   "source": [
    "## Q. 3\n",
    "\n",
    "You have several lists that hold related data points. **Dynamically** create a list of dictionaries that hold each as a set of values. For example, your list of dictionaries should look like:\n",
    "\n",
    "```[{\"first_name\": \"Irene\", \"last_name\": \"Rosenfeld\", \"title\": \"Chair and CEO\", \"company\": \"Kraft Foods\", \"industry\": \"Food and Beverage\"}, ...NEXT dictionary]```\n",
    "\n",
    "**Dynamically** means don't manually create the dictionaries. Use programming to create your dictionaries."
   ]
  },
  {
   "cell_type": "code",
   "execution_count": 37,
   "id": "b88860fe",
   "metadata": {},
   "outputs": [],
   "source": [
    "## ##  RUN THIS CELL - \n",
    "## Here we have a list of CEOs and their relevant data points.\n",
    "first_names = [\"Irene\", \"Ursula\", \"Elon\", \"Tim\"]\n",
    "last_names = [\"Rosenfeld\", \"Burns\", \"Musk\", \"Cook\"]\n",
    "titles = [\"Chair and CEO\", \"Chair and CEO\", \"CEO\", \"CEO\"]\n",
    "companies = [\"Kraft Foods\", \"Xerox\", \"Tesla\", \"Apple\"]\n",
    "industries = [\"Food and Beverage\", \"Process and Document Management\",\n",
    "              \"Auto Manufacturing\", \"Consumer Technology\"]"
   ]
  },
  {
   "cell_type": "code",
   "execution_count": 54,
   "id": "49d85a56",
   "metadata": {},
   "outputs": [],
   "source": [
    "## code it here\n",
    "## notes for dict: https://www.w3schools.com/PYTHON/python_dictionaries.asp\n",
    "ceos= []\n",
    "for first, last, title, company, industry in zip(first_names, last_names, titles, companies, industries):\n",
    "    ceodict = {\n",
    "        \"first_name\": first,\n",
    "        \"last_name\": last,\n",
    "        \"title\": title,\n",
    "        \"company\": company,\n",
    "        \"industry\": industry}\n",
    "    ceos.append(ceodict)\n"
   ]
  },
  {
   "cell_type": "code",
   "execution_count": 53,
   "id": "47e25583",
   "metadata": {},
   "outputs": [
    {
     "data": {
      "text/plain": [
       "[{'first_name': 'Irene',\n",
       "  'last_name': 'Rosenfeld',\n",
       "  'title': 'Chair and CEO',\n",
       "  'company': 'Kraft Foods',\n",
       "  'industry': 'Food and Beverage'},\n",
       " {'first_name': 'Ursula',\n",
       "  'last_name': 'Burns',\n",
       "  'title': 'Chair and CEO',\n",
       "  'company': 'Xerox',\n",
       "  'industry': 'Process and Document Management'},\n",
       " {'first_name': 'Elon',\n",
       "  'last_name': 'Musk',\n",
       "  'title': 'CEO',\n",
       "  'company': 'Tesla',\n",
       "  'industry': 'Auto Manufacturing'},\n",
       " {'first_name': 'Tim',\n",
       "  'last_name': 'Cook',\n",
       "  'title': 'CEO',\n",
       "  'company': 'Apple',\n",
       "  'industry': 'Consumer Technology'}]"
      ]
     },
     "execution_count": 53,
     "metadata": {},
     "output_type": "execute_result"
    }
   ],
   "source": [
    "ceos"
   ]
  },
  {
   "cell_type": "code",
   "execution_count": null,
   "id": "22a8d655",
   "metadata": {},
   "outputs": [],
   "source": []
  }
 ],
 "metadata": {
  "kernelspec": {
   "display_name": "Python 3 (ipykernel)",
   "language": "python",
   "name": "python3"
  },
  "language_info": {
   "codemirror_mode": {
    "name": "ipython",
    "version": 3
   },
   "file_extension": ".py",
   "mimetype": "text/x-python",
   "name": "python",
   "nbconvert_exporter": "python",
   "pygments_lexer": "ipython3",
   "version": "3.11.5"
  }
 },
 "nbformat": 4,
 "nbformat_minor": 5
}
